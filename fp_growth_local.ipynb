{
 "cells": [
  {
   "cell_type": "code",
   "execution_count": 2,
   "metadata": {},
   "outputs": [
    {
     "data": {
      "text/html": [
       "<style>.container { width:100% !important; }</style>"
      ],
      "text/plain": [
       "<IPython.core.display.HTML object>"
      ]
     },
     "metadata": {},
     "output_type": "display_data"
    },
    {
     "name": "stdout",
     "output_type": "stream",
     "text": [
      "hostname for this machine: host-192-168-2-247-ldsa\n"
     ]
    }
   ],
   "source": [
    "## Load context\n",
    "from IPython.core.display import display, HTML\n",
    "display(HTML(\"<style>.container { width:100% !important; }</style>\"))\n",
    "import re\n",
    "import os\n",
    "import pandas as pd\n",
    "import numpy as np\n",
    "import pyspark.sql.functions as f\n",
    "\n",
    "hostname = os.uname()[1]\n",
    "\n",
    "from pyspark.sql import SparkSession\n",
    "from pyspark import SparkConf\n",
    "\n",
    "# BEN'S MASTER: 192.168.2.87\n",
    "# OUR MASTER:   192.168.2.203\n",
    "\n",
    "# New API\n",
    "conf = (SparkConf()    \n",
    "   .setMaster(\"spark://192.168.2.203:7077\")  \n",
    "   .setAppName(f\"load_local_comments; hostname: {hostname}\")    \n",
    "   .set(\"spark.executor.cores\",2)  \n",
    "   .set(\"spark.dynamicAllocation.enabled\", False)  \n",
    "   .set(\"spark.shuffle.service.enabled\", False))\n",
    "\n",
    "#spark_context = SparkContext(conf = conf)  \n",
    "spark_session = SparkSession.builder.config(conf=conf).getOrCreate()\n",
    "\n",
    "# Old API (RDD)\n",
    "spark_context = spark_session.sparkContext\n",
    "spark_context.uiWebUrl\n",
    "print(f'hostname for this machine: {hostname}')"
   ]
  },
  {
   "cell_type": "code",
   "execution_count": 3,
   "metadata": {},
   "outputs": [
    {
     "name": "stdout",
     "output_type": "stream",
     "text": [
      "+----------+----------------------+-----------------+--------------------+----------------+-----------+-------------+------+------+---+--------+---------+------------+-----+--------+----------+------------+---+\n",
      "|    author|author_flair_css_class|author_flair_text|                body|controversiality|created_utc|distinguished|edited|gilded| id| link_id|parent_id|retrieved_on|score|stickied| subreddit|subreddit_id|ups|\n",
      "+----------+----------------------+-----------------+--------------------+----------------+-----------+-------------+------+------+---+--------+---------+------------+-----+--------+----------+------------+---+\n",
      "|      frjo|                  null|             null|A look at Vietnam...|               0| 1134365188|         null| false|     0|c13|t3_17863| t3_17863|  1473738411|    2|   false|reddit.com|        t5_6|  2|\n",
      "|   zse7zse|                  null|             null|The site states \"...|               0| 1134365725|         null| false|     0|c14|t3_17866| t3_17866|  1473738411|    1|   false|reddit.com|        t5_6|  1|\n",
      "| [deleted]|                  null|             null|Jython related to...|               0| 1134366848|         null| false|     0|c15|t3_17869| t3_17869|  1473738411|    0|   false|reddit.com|        t5_6|  0|\n",
      "| [deleted]|                  null|             null|           [deleted]|               0| 1134367660|         null| false|     0|c16|t3_17870| t3_17870|  1473738411|    1|   false|reddit.com|        t5_6|  1|\n",
      "|   rjoseph|                  null|             null|Saft is by far th...|               0| 1134367754|         null| false|     0|c17|t3_17817| t3_17817|  1473738411|    1|   false|reddit.com|        t5_6|  1|\n",
      "| [deleted]|                  null|             null|           [deleted]|               0| 1134368231|         null| false|     0|c18|t3_17710| t3_17710|  1473738411|   -6|   false|reddit.com|        t5_6| -6|\n",
      "|  cavedave|                  null|             null|How to take panor...|               0| 1134371050|         null| false|     0|c19|t3_17876| t3_17876|  1473738411|    1|   false|reddit.com|        t5_6|  1|\n",
      "|      b0se|                  null|             null|I donât know wh...|               0| 1134371664|         null| false|     0|c20|t3_17878| t3_17878|  1473738413|    1|   false|reddit.com|        t5_6|  1|\n",
      "|     damir|                  null|             null|LinkIt by Marc, a...|               0| 1134375273|         null| false|     0|c21|t3_17890| t3_17890|  1473738413|    1|   false|reddit.com|        t5_6|  1|\n",
      "|richardk74|                  null|             null|Making websites r...|               0| 1134380167|         null| false|     0|c22|t3_17901| t3_17901|  1473738413|    1|   false|reddit.com|        t5_6|  1|\n",
      "|  kn0thing|                  null|             null|On the bright sid...|               0| 1134381378|         null| false|     0|c24|t3_17830| t3_17830|  1473738413|    1|   false|reddit.com|        t5_6|  1|\n",
      "|   bugbear|                  null|             null|Like a lot of peo...|               0| 1134384119|         null| false|     0|c26|t3_17844| t3_17844|  1473738413|    8|   false|reddit.com|        t5_6|  8|\n",
      "| [deleted]|                  null|             null|This is comment t...|               0| 1134385225|         null| false|     0|c27|t3_17844| t3_17844|  1473738413|  -16|   false|reddit.com|        t5_6|-16|\n",
      "| [deleted]|                  null|             null|           [deleted]|               1| 1134386131|         null| false|     0|c29|t3_17844| t3_17844|  1473738413|    0|   false|reddit.com|        t5_6|  0|\n",
      "| [deleted]|                  null|             null|           [deleted]|               1| 1134386182|         null| false|     0|c30|t3_17844| t3_17844|  1473738413|   -2|   false|reddit.com|        t5_6| -2|\n",
      "| [deleted]|                  null|             null|           [deleted]|               1| 1134386193|         null| false|     0|c31|t3_17844| t3_17844|  1473738413|   -6|   false|reddit.com|        t5_6| -6|\n",
      "| [deleted]|                  null|             null|           [deleted]|               1| 1134386254|         null| false|     0|c32|t3_17844| t3_17844|  1473738413|   -4|   false|reddit.com|        t5_6| -4|\n",
      "|   AaronSw|                  null|             null|It's a New York T...|               0| 1134386388|         null| false|     0|c33|t3_17844|   t1_c29|  1473738413|    3|   false|reddit.com|        t5_6|  3|\n",
      "|   AaronSw|                  null|             null|[Here's the copy ...|               0| 1134386498|         null| false|     0|c35|t3_17844|   t1_c33|  1473738413|   12|   false|reddit.com|        t5_6| 12|\n",
      "|  fnord123|                  null|             null|The best thing ab...|               1| 1134386557|         null| false|     0|c36|t3_17844| t3_17844|  1473738413|    5|   false|reddit.com|        t5_6|  5|\n",
      "+----------+----------------------+-----------------+--------------------+----------------+-----------+-------------+------+------+---+--------+---------+------------+-----+--------+----------+------------+---+\n",
      "only showing top 20 rows\n",
      "\n"
     ]
    }
   ],
   "source": [
    "#df = spark_context.textFile(\"hdfs://192.168.2.203:9000/RC_2005-12\")\n",
    "df = spark_session.read\\\n",
    "    .option(\"header\", \"true\")\\\n",
    "    .json('hdfs://192.168.2.203:9000/RC_2005-12')\\\n",
    "    .cache()\n",
    "\n",
    "df.show()"
   ]
  },
  {
   "cell_type": "code",
   "execution_count": 3,
   "metadata": {},
   "outputs": [],
   "source": [
    "# Only local file\n",
    "\n",
    "#df_pd = pd.read_json(\"sample_reddit_comments.json\", lines=True)\n",
    "#df = spark_session.createDataFrame(df_pd).cache()"
   ]
  },
  {
   "cell_type": "code",
   "execution_count": 4,
   "metadata": {},
   "outputs": [],
   "source": [
    "from pyspark.sql import functions as F\n",
    "from pyspark.ml.fpm import FPGrowth\n",
    "from pyspark.sql.types import ArrayType, FloatType, StringType"
   ]
  },
  {
   "cell_type": "code",
   "execution_count": 5,
   "metadata": {},
   "outputs": [
    {
     "name": "stdout",
     "output_type": "stream",
     "text": [
      "root\n",
      " |-- author: string (nullable = true)\n",
      " |-- body: string (nullable = true)\n",
      " |-- controversiality: long (nullable = true)\n",
      " |-- created_utc: long (nullable = true)\n",
      " |-- distinguished: string (nullable = true)\n",
      " |-- edited: boolean (nullable = true)\n",
      " |-- id: string (nullable = true)\n",
      " |-- link_id: string (nullable = true)\n",
      " |-- parent_id: string (nullable = true)\n",
      " |-- retrieved_on: long (nullable = true)\n",
      " |-- score: long (nullable = true)\n",
      " |-- stickied: boolean (nullable = true)\n",
      " |-- subreddit: string (nullable = true)\n",
      " |-- subreddit_id: string (nullable = true)\n",
      " |-- ups: long (nullable = true)\n",
      "\n",
      "+----------+--------------------+----------------+-----------+-------------+------+---+--------+---------+------------+-----+--------+----------+------------+---+\n",
      "|    author|                body|controversiality|created_utc|distinguished|edited| id| link_id|parent_id|retrieved_on|score|stickied| subreddit|subreddit_id|ups|\n",
      "+----------+--------------------+----------------+-----------+-------------+------+---+--------+---------+------------+-----+--------+----------+------------+---+\n",
      "|      frjo|A look at Vietnam...|               0| 1134365188|         null| false|c13|t3_17863| t3_17863|  1473738411|    2|   false|reddit.com|        t5_6|  2|\n",
      "|   zse7zse|The site states \"...|               0| 1134365725|         null| false|c14|t3_17866| t3_17866|  1473738411|    1|   false|reddit.com|        t5_6|  1|\n",
      "| [deleted]|Jython related to...|               0| 1134366848|         null| false|c15|t3_17869| t3_17869|  1473738411|    0|   false|reddit.com|        t5_6|  0|\n",
      "| [deleted]|           [deleted]|               0| 1134367660|         null| false|c16|t3_17870| t3_17870|  1473738411|    1|   false|reddit.com|        t5_6|  1|\n",
      "|   rjoseph|Saft is by far th...|               0| 1134367754|         null| false|c17|t3_17817| t3_17817|  1473738411|    1|   false|reddit.com|        t5_6|  1|\n",
      "| [deleted]|           [deleted]|               0| 1134368231|         null| false|c18|t3_17710| t3_17710|  1473738411|   -6|   false|reddit.com|        t5_6| -6|\n",
      "|  cavedave|How to take panor...|               0| 1134371050|         null| false|c19|t3_17876| t3_17876|  1473738411|    1|   false|reddit.com|        t5_6|  1|\n",
      "|      b0se|I donât know wh...|               0| 1134371664|         null| false|c20|t3_17878| t3_17878|  1473738413|    1|   false|reddit.com|        t5_6|  1|\n",
      "|     damir|LinkIt by Marc, a...|               0| 1134375273|         null| false|c21|t3_17890| t3_17890|  1473738413|    1|   false|reddit.com|        t5_6|  1|\n",
      "|richardk74|Making websites r...|               0| 1134380167|         null| false|c22|t3_17901| t3_17901|  1473738413|    1|   false|reddit.com|        t5_6|  1|\n",
      "|  kn0thing|On the bright sid...|               0| 1134381378|         null| false|c24|t3_17830| t3_17830|  1473738413|    1|   false|reddit.com|        t5_6|  1|\n",
      "|   bugbear|Like a lot of peo...|               0| 1134384119|         null| false|c26|t3_17844| t3_17844|  1473738413|    8|   false|reddit.com|        t5_6|  8|\n",
      "| [deleted]|This is comment t...|               0| 1134385225|         null| false|c27|t3_17844| t3_17844|  1473738413|  -16|   false|reddit.com|        t5_6|-16|\n",
      "| [deleted]|           [deleted]|               1| 1134386131|         null| false|c29|t3_17844| t3_17844|  1473738413|    0|   false|reddit.com|        t5_6|  0|\n",
      "| [deleted]|           [deleted]|               1| 1134386182|         null| false|c30|t3_17844| t3_17844|  1473738413|   -2|   false|reddit.com|        t5_6| -2|\n",
      "| [deleted]|           [deleted]|               1| 1134386193|         null| false|c31|t3_17844| t3_17844|  1473738413|   -6|   false|reddit.com|        t5_6| -6|\n",
      "| [deleted]|           [deleted]|               1| 1134386254|         null| false|c32|t3_17844| t3_17844|  1473738413|   -4|   false|reddit.com|        t5_6| -4|\n",
      "|   AaronSw|It's a New York T...|               0| 1134386388|         null| false|c33|t3_17844|   t1_c29|  1473738413|    3|   false|reddit.com|        t5_6|  3|\n",
      "|   AaronSw|[Here's the copy ...|               0| 1134386498|         null| false|c35|t3_17844|   t1_c33|  1473738413|   12|   false|reddit.com|        t5_6| 12|\n",
      "|  fnord123|The best thing ab...|               1| 1134386557|         null| false|c36|t3_17844| t3_17844|  1473738413|    5|   false|reddit.com|        t5_6|  5|\n",
      "+----------+--------------------+----------------+-----------+-------------+------+---+--------+---------+------------+-----+--------+----------+------------+---+\n",
      "only showing top 20 rows\n",
      "\n"
     ]
    }
   ],
   "source": [
    "df_fp = df.drop(*['permalink', 'gilded', 'author_flair_css_class', 'can_gild', 'author_flair_text', 'author_cakeday'])\n",
    "df_fp.printSchema()\n",
    "df_fp.show()"
   ]
  },
  {
   "cell_type": "code",
   "execution_count": 6,
   "metadata": {},
   "outputs": [],
   "source": [
    "#import nltk\n",
    "#from nltk.corpus import stopwords\n",
    "#print(stopwords.words('english'))"
   ]
  },
  {
   "cell_type": "code",
   "execution_count": 7,
   "metadata": {},
   "outputs": [],
   "source": [
    "# Filter functions\n",
    "to_basket_unique = lambda comment: list(set((re.sub(r'\\W+', ' ', comment).lower().strip().split(' '))))\n",
    "udf_to_basket_unique = F.udf(to_basket_unique, ArrayType(StringType()))\n",
    "\n",
    "\n",
    "def filter_words(basket):\n",
    "    stopwords = ['i', 'me', 'my', 'myself', 'we', 'our', 'ours', 'ourselves', 'you', \"you're\", \"you've\", \"you'll\", \"you'd\", 'your', 'yours', 'yourself', 'yourselves', 'he', 'him', 'his', 'himself', 'she', \"she's\", 'her', 'hers', 'herself', 'it', \"it's\", 'its', 'itself', 'they', 'them', 'their', 'theirs', 'themselves', 'what', 'which', 'who', 'whom', 'this', 'that', \"that'll\", 'these', 'those', 'am', 'is', 'are', 'was', 'were', 'be', 'been', 'being', 'have', 'has', 'had', 'having', 'do', 'does', 'did', 'doing', 'a', 'an', 'the', 'and', 'but', 'if', 'or', 'because', 'as', 'until', 'while', 'of', 'at', 'by', 'for', 'with', 'about', 'against', 'between', 'into', 'through', 'during', 'before', 'after', 'above', 'below', 'to', 'from', 'up', 'down', 'in', 'out', 'on', 'off', 'over', 'under', 'again', 'further', 'then', 'once', 'here', 'there', 'when', 'where', 'why', 'how', 'all', 'any', 'both', 'each', 'few', 'more', 'most', 'other', 'some', 'such', 'no', 'nor', 'not', 'only', 'own', 'same', 'so', 'than', 'too', 'very', 's', 't', 'can', 'will', 'just', 'don', \"don't\", 'should', \"should've\", 'now', 'd', 'll', 'm', 'o', 're', 've', 'y', 'ain', 'aren', \"aren't\", 'couldn', \"couldn't\", 'didn', \"didn't\", 'doesn', \"doesn't\", 'hadn', \"hadn't\", 'hasn', \"hasn't\", 'haven', \"haven't\", 'isn', \"isn't\", 'ma', 'mightn', \"mightn't\", 'mustn', \"mustn't\", 'needn', \"needn't\", 'shan', \"shan't\", 'shouldn', \"shouldn't\", 'wasn', \"wasn't\", 'weren', \"weren't\", 'won', \"won't\", 'wouldn', \"wouldn't\"]\n",
    "    stopwords += ['https', 'www', 'one', 'would', 'come', 'really', 'also', 'com', 'gt', 'r', '737yli']\n",
    "    stopwords += ['get', 'even', 'make', 'go', 'still', 'could', 'got', 'goes', '2', 'first', 'going', 'right', 'sure', 'something']\n",
    "    return [word for word in basket if word not in stopwords]\n",
    "    \n",
    "udf_filter_words = F.udf(filter_words, ArrayType(StringType()))\n"
   ]
  },
  {
   "cell_type": "code",
   "execution_count": 8,
   "metadata": {},
   "outputs": [
    {
     "data": {
      "text/plain": [
       "[Row(body=['look', 'myth', 'liberalisation', 'market', 'vietnam', 'mexico', 'exposes']),\n",
       " Row(body=['sign', 'competitive', 'new', 'pretty', 'meeting', 'levels', 'fom', 'want', 'proposals', 'store', 'states', 'honest', 'web', 'everything', 'prevent', 'specs', 'guarantee', 'sheets', 'data', 'multiple', 'reports', 'operators', 'stealing', 'site', 'gains', 'sites', 'accessing', 'encryption', 'like', 'use', 'breeed', 'prevents', 'good', 'useful', 'call', 'notes', 'much', 'setting', 'paranoid', 'etc', 'security', 'personal', 'technical', 'us']),\n",
       " Row(body=['frank', 'topics', 'wierzbicki', 'related', 'jython']),\n",
       " Row(body=['deleted']),\n",
       " Row(body=['far', 'tak', 'safari', 'extension', 'saft', 'best', 'onto']),\n",
       " Row(body=['deleted']),\n",
       " Row(body=['shots', 'simply', 'panoramic', 'take']),\n",
       " Row(body=['stuff', 'market', 'concept', 'beginning', 'phrases', 'copying', 'pasting', 'web', 'save', 'thatâ', 'surprise', 'client', 'came', 'cool', 'know', 'time', 'search', 'qube', 'donâ', 'taken', 'blossom', 'words']),\n",
       " Row(body=['linkit', 'wrtten', 'alternative', 'reddit', 'marc', 'cl']),\n",
       " Row(body=['usable', 'potential', 'across', 'relevant', 'websites', 'users', 'world', 'making'])]"
      ]
     },
     "execution_count": 8,
     "metadata": {},
     "output_type": "execute_result"
    }
   ],
   "source": [
    "df_fp1 = df_fp.withColumn('body', udf_filter_words(udf_to_basket_unique('body'))).select('body')\n",
    "df_fp1.take(10)"
   ]
  },
  {
   "cell_type": "code",
   "execution_count": 9,
   "metadata": {},
   "outputs": [],
   "source": [
    "fpGrowth = FPGrowth(itemsCol=\"body\", minSupport=0.01, minConfidence=0.05)\n",
    "model = fpGrowth.fit(df_fp1)"
   ]
  },
  {
   "cell_type": "code",
   "execution_count": 10,
   "metadata": {},
   "outputs": [
    {
     "name": "stdout",
     "output_type": "stream",
     "text": [
      "['think', 'like', 'people', 'deleted', 'good', 'http', 'article', 'know', 'time', 'see', 'reddit', 'much', 'use', 'many', 'way', 'interesting', 'work', 'great', 'better', 'well', 'want', 'point', 'things', 'read', 'language', 'thing', 'paul', 'problem', 'lot', 'actually']\n"
     ]
    }
   ],
   "source": [
    "#from functools import reduce\n",
    "extract_top = [el for lis in map(lambda x: x.items, model.freqItemsets.sort(\"freq\", ascending = False).select('items').take(30)) for el in lis]\n",
    "#extract_top = reduce(list.__add__, map(lambda x: x.items, model.freqItemsets.sort(\"freq\", ascending = False).select('items').take(30)))\n",
    "print(extract_top)"
   ]
  },
  {
   "cell_type": "code",
   "execution_count": 11,
   "metadata": {},
   "outputs": [
    {
     "name": "stdout",
     "output_type": "stream",
     "text": [
      "Total size of dataset: 1075 comments\n",
      "+-------------+----+\n",
      "|        items|freq|\n",
      "+-------------+----+\n",
      "|       [like]| 143|\n",
      "|      [think]| 143|\n",
      "|     [people]| 125|\n",
      "|    [deleted]| 108|\n",
      "|       [good]| 100|\n",
      "|       [http]|  99|\n",
      "|    [article]|  94|\n",
      "|       [know]|  89|\n",
      "|       [time]|  86|\n",
      "|        [see]|  79|\n",
      "|     [reddit]|  77|\n",
      "|       [much]|  75|\n",
      "|        [use]|  67|\n",
      "|       [many]|  67|\n",
      "|        [way]|  62|\n",
      "|[interesting]|  62|\n",
      "|       [work]|  61|\n",
      "|      [great]|  59|\n",
      "|     [better]|  58|\n",
      "|       [well]|  57|\n",
      "+-------------+----+\n",
      "only showing top 20 rows\n",
      "\n",
      "+---------------+----------+------------------+------------------+\n",
      "|     antecedent|consequent|        confidence|              lift|\n",
      "+---------------+----------+------------------+------------------+\n",
      "| [work, people]|    [like]|               0.6|  4.51048951048951|\n",
      "| [good, people]|   [think]|0.5666666666666667|  4.25990675990676|\n",
      "| [people, like]|   [think]|0.4146341463414634|3.1170049462732385|\n",
      "| [good, people]|    [like]|               0.4| 3.006993006993007|\n",
      "|       [people]|   [think]|             0.384|2.8867132867132868|\n",
      "|[people, think]|    [good]|0.3541666666666667| 3.807291666666667|\n",
      "|[people, think]|    [like]|0.3541666666666667| 2.662441724941725|\n",
      "|       [people]|    [like]|             0.328|2.4657342657342656|\n",
      "| [people, like]|    [good]|0.2926829268292683| 3.146341463414634|\n",
      "| [people, like]|    [work]|0.2926829268292683| 5.157936825269892|\n",
      "|       [people]|    [good]|              0.24|              2.58|\n",
      "|       [people]|    [know]|             0.192|2.3191011235955057|\n",
      "|       [people]|     [lot]|             0.176|3.9416666666666664|\n",
      "|       [people]|    [many]|             0.176|2.8238805970149254|\n",
      "|       [people]| [problem]|             0.168|             3.612|\n",
      "|       [people]|     [way]|              0.16| 2.774193548387097|\n",
      "|       [people]|    [time]|              0.16|               2.0|\n",
      "|       [people]|    [much]|              0.16|2.2933333333333334|\n",
      "|       [people]|    [work]|              0.16| 2.819672131147541|\n",
      "|       [people]|  [things]|              0.16| 3.185185185185185|\n",
      "+---------------+----------+------------------+------------------+\n",
      "only showing top 20 rows\n",
      "\n"
     ]
    }
   ],
   "source": [
    "# Count\n",
    "c = df.count()\n",
    "print(f'Total size of dataset: {c} comments')\n",
    "\n",
    "# Display frequent itemsets.\n",
    "model.freqItemsets.sort(\"freq\", ascending = False).show()\n",
    "\n",
    "# Display generated association rules.\n",
    "antecedent = 'people'\n",
    "\n",
    "model.associationRules.filter(F.array_contains('antecedent', antecedent)).sort('confidence', ascending=False).show()\n",
    "\n",
    "# transform examines the input items against all the association rules and summarize the\n",
    "# consequents as prediction\n",
    "#model.transform(df_fp1).show()"
   ]
  },
  {
   "cell_type": "code",
   "execution_count": null,
   "metadata": {},
   "outputs": [],
   "source": []
  }
 ],
 "metadata": {
  "kernelspec": {
   "display_name": "Python 3",
   "language": "python",
   "name": "python3"
  },
  "language_info": {
   "codemirror_mode": {
    "name": "ipython",
    "version": 3
   },
   "file_extension": ".py",
   "mimetype": "text/x-python",
   "name": "python",
   "nbconvert_exporter": "python",
   "pygments_lexer": "ipython3",
   "version": "3.6.9"
  }
 },
 "nbformat": 4,
 "nbformat_minor": 2
}
